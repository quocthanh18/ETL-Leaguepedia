{
 "cells": [
  {
   "cell_type": "code",
   "execution_count": 1,
   "metadata": {},
   "outputs": [],
   "source": [
    "import findspark\n",
    "findspark.init()"
   ]
  },
  {
   "cell_type": "code",
   "execution_count": 2,
   "metadata": {},
   "outputs": [
    {
     "name": "stderr",
     "output_type": "stream",
     "text": [
      "your 131072x1 screen size is bogus. expect trouble\n",
      "24/10/14 19:36:22 WARN Utils: Your hostname, quocthanh resolves to a loopback address: 127.0.1.1; using 10.255.255.254 instead (on interface lo)\n",
      "24/10/14 19:36:22 WARN Utils: Set SPARK_LOCAL_IP if you need to bind to another address\n",
      "24/10/14 19:36:23 WARN NativeCodeLoader: Unable to load native-hadoop library for your platform... using builtin-java classes where applicable\n",
      "Setting default log level to \"WARN\".\n",
      "To adjust logging level use sc.setLogLevel(newLevel). For SparkR, use setLogLevel(newLevel).\n"
     ]
    }
   ],
   "source": [
    "from pyspark.sql import SparkSession\n",
    "from pyspark.sql.functions import col, datediff, current_date, max, min, year, split, concat, lit, floor, when\n",
    "spark = SparkSession.builder.appName(\"Leaguepedia\").config(\"spark.jars\", \"/home/quocthanh/spark/jars/postgresql-42.7.4.jar\").getOrCreate()\n"
   ]
  },
  {
   "cell_type": "markdown",
   "metadata": {},
   "source": [
    "Q1: List top 5 countries with the most players."
   ]
  },
  {
   "cell_type": "code",
   "execution_count": 3,
   "metadata": {},
   "outputs": [],
   "source": [
    "players_df = spark.read \\\n",
    "    .format(\"jdbc\") \\\n",
    "    .option(\"url\", \"jdbc:postgresql://172.26.115.201:5432/ETL_Leaguepedia\") \\\n",
    "    .option(\"dbtable\", \"players\") \\\n",
    "    .option(\"user\", \"quocthanh\") \\\n",
    "    .option(\"password\", \"quocthanh1804\") \\\n",
    "    .load()\n"
   ]
  },
  {
   "cell_type": "code",
   "execution_count": 4,
   "metadata": {},
   "outputs": [],
   "source": [
    "main_players = players_df.filter(col(\"role\").isin([\"Top\", \"Jungle\", \"Mid\", \"Bot\", \"Support\"]))"
   ]
  },
  {
   "cell_type": "code",
   "execution_count": 5,
   "metadata": {},
   "outputs": [
    {
     "name": "stderr",
     "output_type": "stream",
     "text": [
      "                                                                                \r"
     ]
    },
    {
     "name": "stdout",
     "output_type": "stream",
     "text": [
      "+--------------+-----+\n",
      "|       country|count|\n",
      "+--------------+-----+\n",
      "| United States|  876|\n",
      "|         China|  828|\n",
      "|   South Korea|  798|\n",
      "|        Brazil|  339|\n",
      "|         Spain|  330|\n",
      "|        Turkey|  322|\n",
      "|       Germany|  317|\n",
      "|        Poland|  293|\n",
      "|        Taiwan|  270|\n",
      "|     Argentina|  270|\n",
      "|        Canada|  267|\n",
      "|        France|  259|\n",
      "|Czech Republic|  256|\n",
      "|         Chile|  251|\n",
      "|       Vietnam|  247|\n",
      "|          NULL|  217|\n",
      "|        Mexico|  212|\n",
      "|        Greece|  209|\n",
      "|   Netherlands|  186|\n",
      "|      Portugal|  184|\n",
      "+--------------+-----+\n",
      "only showing top 20 rows\n",
      "\n"
     ]
    }
   ],
   "source": [
    "\n",
    "top5_countries_players = main_players.groupBy(\"country\").count().orderBy(col(\"count\").desc())\n",
    "top5_countries = top5_countries_players.limit(5).toPandas()[\"country\"].tolist()\n",
    "top5_countries_players.show()"
   ]
  },
  {
   "cell_type": "code",
   "execution_count": 6,
   "metadata": {},
   "outputs": [
    {
     "name": "stdout",
     "output_type": "stream",
     "text": [
      "+-----------+-------+-----+\n",
      "|    country|   role|count|\n",
      "+-----------+-------+-----+\n",
      "|     Brazil|    Bot|   77|\n",
      "|     Brazil| Jungle|   67|\n",
      "|     Brazil|    Mid|   64|\n",
      "|     Brazil|Support|   62|\n",
      "|     Brazil|    Top|   69|\n",
      "|      China|    Bot|  161|\n",
      "|      China| Jungle|  199|\n",
      "|      China|    Mid|  140|\n",
      "|      China|Support|  164|\n",
      "|      China|    Top|  164|\n",
      "|South Korea|    Bot|  158|\n",
      "|South Korea| Jungle|  151|\n",
      "|South Korea|    Mid|  161|\n",
      "|South Korea|Support|  174|\n",
      "|South Korea|    Top|  154|\n",
      "|      Spain|    Bot|   68|\n",
      "|      Spain| Jungle|   73|\n",
      "|      Spain|    Mid|   61|\n",
      "|      Spain|Support|   61|\n",
      "|      Spain|    Top|   67|\n",
      "+-----------+-------+-----+\n",
      "only showing top 20 rows\n",
      "\n"
     ]
    }
   ],
   "source": [
    "players_per_role = main_players.filter(col(\"country\").isin(top5_countries)).groupBy(\"country\", \"role\").count().orderBy(\"country\", \"role\")\n",
    "players_per_role.show()"
   ]
  },
  {
   "cell_type": "markdown",
   "metadata": {},
   "source": [
    "Q2: Oldest and youngest active players"
   ]
  },
  {
   "cell_type": "code",
   "execution_count": 7,
   "metadata": {},
   "outputs": [
    {
     "name": "stdout",
     "output_type": "stream",
     "text": [
      "+------+-------+----------+------------+----+-----+\n",
      "|player|country| birthdate|        team|role|  age|\n",
      "+------+-------+----------+------------+----+-----+\n",
      "|Broeki|Germany|1991-02-11|No Need Orga| Bot|12299|\n",
      "+------+-------+----------+------------+----+-----+\n",
      "\n",
      "+--------+-----------+----------+--------------------+-------+----+\n",
      "|  player|    country| birthdate|                team|   role| age|\n",
      "+--------+-----------+----------+--------------------+-------+----+\n",
      "|Antimage|South Korea|2008-12-07|Hanwha Life Espor...|Support|5790|\n",
      "+--------+-----------+----------+--------------------+-------+----+\n",
      "\n"
     ]
    }
   ],
   "source": [
    "main_df_q2 = main_players.filter((col(\"isretired\") == 0) & (col(\"team\").isNotNull()) & (col(\"birthdate\").isNotNull())).select(\"player\", \"country\", \"birthdate\", \"team\", \"role\")\n",
    "main_df_q2 = main_df_q2.withColumn(\"age\", datediff(current_date(), col(\"birthdate\")))\n",
    "oldest_player = main_df_q2.orderBy(col(\"age\").desc()).limit(1)\n",
    "youngest_player = main_df_q2.orderBy(col(\"age\")).limit(1)\n",
    "oldest_player.show()\n",
    "youngest_player.show()"
   ]
  },
  {
   "cell_type": "markdown",
   "metadata": {},
   "source": [
    "Q3: Which champions are mostly played by each role ?"
   ]
  },
  {
   "cell_type": "code",
   "execution_count": 8,
   "metadata": {},
   "outputs": [],
   "source": [
    "players_favchamps = spark.read \\\n",
    "    .format(\"jdbc\") \\\n",
    "    .option(\"url\", \"jdbc:postgresql://172.26.115.201:5432/ETL_Leaguepedia\") \\\n",
    "    .option(\"dbtable\", \"playersfavchamps\") \\\n",
    "    .option(\"user\", \"quocthanh\") \\\n",
    "    .option(\"password\", \"quocthanh1804\") \\\n",
    "    .load()"
   ]
  },
  {
   "cell_type": "code",
   "execution_count": 9,
   "metadata": {},
   "outputs": [],
   "source": [
    "q2_main_df = players_favchamps.join(main_players, \"player\").select(\"player\", \"role\", \"champ\")"
   ]
  },
  {
   "cell_type": "code",
   "execution_count": 10,
   "metadata": {},
   "outputs": [
    {
     "name": "stdout",
     "output_type": "stream",
     "text": [
      "+-------+-----+\n",
      "|  champ|count|\n",
      "+-------+-----+\n",
      "|Camille|  132|\n",
      "| Irelia|   99|\n",
      "|  Jayce|   78|\n",
      "| Aatrox|   73|\n",
      "|    Jax|   71|\n",
      "+-------+-----+\n",
      "\n",
      "+-------+-----+\n",
      "|  champ|count|\n",
      "+-------+-----+\n",
      "|Lee Sin|  246|\n",
      "| Graves|  132|\n",
      "|Nidalee|  106|\n",
      "|Kha'Zix|  103|\n",
      "|  Elise|   87|\n",
      "+-------+-----+\n",
      "\n",
      "+-------+-----+\n",
      "|  champ|count|\n",
      "+-------+-----+\n",
      "|LeBlanc|  105|\n",
      "|    Zed|   87|\n",
      "|Orianna|   87|\n",
      "|   Ahri|   81|\n",
      "|  Akali|   79|\n",
      "+-------+-----+\n",
      "\n",
      "+-------+-----+\n",
      "|  champ|count|\n",
      "+-------+-----+\n",
      "| Ezreal|  198|\n",
      "| Kai'Sa|  193|\n",
      "|  Vayne|  147|\n",
      "| Lucian|  137|\n",
      "|Caitlyn|   95|\n",
      "+-------+-----+\n",
      "\n",
      "+--------+-----+\n",
      "|   champ|count|\n",
      "+--------+-----+\n",
      "|  Thresh|  264|\n",
      "|   Rakan|  134|\n",
      "|Nautilus|   89|\n",
      "|    Bard|   85|\n",
      "| Alistar|   78|\n",
      "+--------+-----+\n",
      "\n"
     ]
    }
   ],
   "source": [
    "#Top most popular champions\n",
    "q2_top = q2_main_df.filter(col(\"role\") == \"Top\").groupBy(\"champ\").count().orderBy(col(\"count\").desc()).limit(5).show()\n",
    "q2_jungle = q2_main_df.filter(col(\"role\") == \"Jungle\").groupBy(\"champ\").count().orderBy(col(\"count\").desc()).limit(5).show()\n",
    "q2_mid = q2_main_df.filter(col(\"role\") == \"Mid\").groupBy(\"champ\").count().orderBy(col(\"count\").desc()).limit(5).show()\n",
    "q2_bot = q2_main_df.filter(col(\"role\") == \"Bot\").groupBy(\"champ\").count().orderBy(col(\"count\").desc()).limit(5).show()\n",
    "q2_support = q2_main_df.filter(col(\"role\") == \"Support\").groupBy(\"champ\").count().orderBy(col(\"count\").desc()).limit(5).show()"
   ]
  },
  {
   "cell_type": "code",
   "execution_count": 11,
   "metadata": {},
   "outputs": [],
   "source": [
    "scoreboardgames = spark.read \\\n",
    "    .format(\"jdbc\") \\\n",
    "    .option(\"url\", \"jdbc:postgresql://quocthanh:5432/ETL_Leaguepedia\") \\\n",
    "    .option(\"dbtable\", \"scoreboardgames\") \\\n",
    "    .option(\"user\", \"quocthanh\") \\\n",
    "    .option(\"password\", \"quocthanh1804\") \\\n",
    "    .load()\n",
    "scoreboardgames = scoreboardgames.withColumn(\"gamelength_in_seconds\", split(col(\"gamelength\"), \":\")[0]*60 + split(col(\"gamelength\"), \":\")[1])"
   ]
  },
  {
   "cell_type": "markdown",
   "metadata": {},
   "source": [
    "Q4: Average game duration per year"
   ]
  },
  {
   "cell_type": "code",
   "execution_count": 12,
   "metadata": {},
   "outputs": [
    {
     "name": "stdout",
     "output_type": "stream",
     "text": [
      "+----+--------------------------+\n",
      "|year|avg(gamelength_in_seconds)|\n",
      "+----+--------------------------+\n",
      "|2011|                     37:57|\n",
      "|2012|                     34:47|\n",
      "|2013|                     32:54|\n",
      "|2014|                     35:21|\n",
      "|2015|                     35:52|\n",
      "|2016|                     37:23|\n",
      "|2017|                      36:1|\n",
      "|2018|                     34:38|\n",
      "|2019|                      33:2|\n",
      "|2020|                     32:53|\n",
      "|2021|                     32:13|\n",
      "|2022|                     32:25|\n",
      "|2023|                     31:27|\n",
      "|2024|                     32:21|\n",
      "+----+--------------------------+\n",
      "\n"
     ]
    }
   ],
   "source": [
    "q4 = scoreboardgames.groupBy(year(\"timestamp\").alias(\"year\")).avg(\"gamelength_in_seconds\").orderBy(\"year\") \\\n",
    "    .withColumn(\"avg(gamelength_in_seconds)\", concat(floor(col(\"avg(gamelength_in_seconds)\").cast('int') / 60), lit(\":\"), floor(col(\"avg(gamelength_in_seconds)\") % 60)))\n",
    "q4.show()"
   ]
  },
  {
   "cell_type": "code",
   "execution_count": 13,
   "metadata": {},
   "outputs": [],
   "source": [
    "gamebans = spark.read \\\n",
    "    .format(\"jdbc\") \\\n",
    "    .option(\"url\", \"jdbc:postgresql://quocthanh:5432/ETL_Leaguepedia\") \\\n",
    "    .option(\"dbtable\", \"gamebans\") \\\n",
    "    .option(\"user\", \"quocthanh\") \\\n",
    "    .option(\"password\", \"quocthanh1804\") \\\n",
    "    .load()"
   ]
  },
  {
   "cell_type": "markdown",
   "metadata": {},
   "source": [
    "Q5: Which champion is mostly banned first in Worlds/ MSI ?"
   ]
  },
  {
   "cell_type": "code",
   "execution_count": 14,
   "metadata": {},
   "outputs": [
    {
     "name": "stderr",
     "output_type": "stream",
     "text": [
      "[Stage 132:===============================================>       (20 + 2) / 23]\r"
     ]
    },
    {
     "name": "stdout",
     "output_type": "stream",
     "text": [
      "+--------------------+----------+-----+\n",
      "|              league|  champion|count|\n",
      "+--------------------+----------+-----+\n",
      "|2011 Season World...|    Rumble|   10|\n",
      "|2012 Season World...|    Anivia|    7|\n",
      "|2013 Season World...|       Zed|   20|\n",
      "|2014 Season World...|   Alistar|   26|\n",
      "|2015 Season World...| Gangplank|   25|\n",
      "|2016 Season World...|   Nidalee|   30|\n",
      "|2017 Season World...|   Kalista|   90|\n",
      "|2018 Season World...|Tahm Kench|   26|\n",
      "|2019 Season World...|  Pantheon|  101|\n",
      "|2020 Season World...|    Lucian|   26|\n",
      "|2021 Season World...|   LeBlanc|   35|\n",
      "|2022 Season World...|     Yuumi|   35|\n",
      "|2023 Season World...|    Maokai|   29|\n",
      "|2024 Season World...|    Aurora|    6|\n",
      "|2015 Mid-Season I...|   LeBlanc|   11|\n",
      "|2016 Mid-Season I...|   Alistar|   15|\n",
      "|2017 Mid-Season I...|    Kennen|   22|\n",
      "|2018 Mid-Season I...|    Kai'Sa|   18|\n",
      "|2019 Mid-Season I...| Jarvan IV|   25|\n",
      "|2021 Mid-Season I...|  Renekton|   28|\n",
      "+--------------------+----------+-----+\n",
      "only showing top 20 rows\n",
      "\n"
     ]
    },
    {
     "name": "stderr",
     "output_type": "stream",
     "text": [
      "                                                                                \r"
     ]
    }
   ],
   "source": [
    "from pyspark.sql.types import StringType, StructField, IntegerType, StructType\n",
    "schema = StructType([\n",
    "    StructField(\"league\", StringType(), True),\n",
    "    StructField(\"champion\", StringType(), True),\n",
    "    StructField(\"count\", IntegerType(), True),\n",
    "])\n",
    "league_bans = spark.createDataFrame([], schema)\n",
    "\n",
    "for i in range(0, 14):\n",
    "    if i < 3:\n",
    "        league = f\"Season {i + 1} World Championship\"\n",
    "        game = gamebans.filter(col(\"gameid\").contains(league))\n",
    "        ban = game.filter(col(\"ban_order\") == 0).groupBy(\"champ\").count().orderBy(col(\"count\").desc()).limit(1).collect()\n",
    "        league_renamed = f\"{2011 + i} Season World Championship\"\n",
    "        row = [(league_renamed, ban[0][\"champ\"], ban[0][\"count\"])]\n",
    "        league_bans = league_bans.union(spark.createDataFrame(row, schema))\n",
    "    else:\n",
    "        game = gamebans.filter(col(\"gameid\").contains(f\"{2011 + i} Season World Championship\"))\n",
    "        ban = game.filter(col(\"ban_order\") == 0).groupBy(\"champ\").count().orderBy(col(\"count\").desc()).limit(1).collect()\n",
    "        row = [(f\"{2011 + i} Season World Championship\", ban[0][\"champ\"], ban[0][\"count\"])]\n",
    "        league_bans = league_bans.union(spark.createDataFrame(row, schema))\n",
    "\n",
    "for i in range(0, 10):\n",
    "    league = f\"{2015 + i} Mid-Season Invitational\"\n",
    "    game = gamebans.filter(col(\"gameid\").contains(league))\n",
    "    ban = game.filter(col(\"ban_order\") == 0).groupBy(\"champ\").count().orderBy(col(\"count\").desc()).limit(1).collect()\n",
    "    if ban:\n",
    "        row = [(league, ban[0][\"champ\"], ban[0][\"count\"])]\n",
    "        league_bans = league_bans.union(spark.createDataFrame(row, schema))\n",
    "\n",
    "league_bans.show()"
   ]
  },
  {
   "cell_type": "markdown",
   "metadata": {},
   "source": [
    "Q6: Performance by region in MSI"
   ]
  },
  {
   "cell_type": "code",
   "execution_count": 15,
   "metadata": {},
   "outputs": [],
   "source": [
    "tournamentresults = spark.read \\\n",
    "    .format(\"jdbc\") \\\n",
    "    .option(\"url\", \"jdbc:postgresql://quocthanh:5432/ETL_Leaguepedia\") \\\n",
    "    .option(\"dbtable\", \"tournamentresults\") \\\n",
    "    .option(\"user\", \"quocthanh\") \\\n",
    "    .option(\"password\", \"quocthanh1804\") \\\n",
    "    .load()\n",
    "\n",
    "teams = spark.read \\\n",
    "    .format(\"jdbc\") \\\n",
    "    .option(\"url\", \"jdbc:postgresql://quocthanh:5432/ETL_Leaguepedia\") \\\n",
    "    .option(\"dbtable\", \"teams\") \\\n",
    "    .option(\"user\", \"quocthanh\") \\\n",
    "    .option(\"password\", \"quocthanh1804\") \\\n",
    "    .load()"
   ]
  },
  {
   "cell_type": "code",
   "execution_count": 16,
   "metadata": {},
   "outputs": [
    {
     "name": "stdout",
     "output_type": "stream",
     "text": [
      "+-------------+---+---+\n",
      "|       region|1st|2nd|\n",
      "+-------------+---+---+\n",
      "|        China|  5|  2|\n",
      "|        Korea|  3|  4|\n",
      "|         EMEA|  1|  1|\n",
      "|North America|  0|  2|\n",
      "+-------------+---+---+\n",
      "\n"
     ]
    },
    {
     "name": "stderr",
     "output_type": "stream",
     "text": [
      "                                                                                \r"
     ]
    }
   ],
   "source": [
    "q6 = tournamentresults.filter((col(\"overviewpage\").contains(\"Mid-Season Invitational\")) & (col(\"place\").isin([\"1\", \"2\"]))).withColumn(\"team\", when(col(\"team\") == \"DWG KIA\", \"Dplus KIA\").otherwise(col(\"team\"))) \\\n",
    "    .join(teams, col(\"team\") == teams.name).select(\"team\", \"place\", \"overviewpage\", \"region\").sort(\"overviewpage\")\n",
    "regions = q6.select(\"region\").distinct().toPandas()[\"region\"].tolist()\n",
    "schema = StructType([\n",
    "    StructField(\"region\", StringType(), True),\n",
    "    StructField(\"1st\", StringType(), True),\n",
    "    StructField(\"2nd\", StringType(), True),\n",
    "])\n",
    "performances = spark.createDataFrame([], schema)\n",
    "for region in regions:\n",
    "    first = q6.filter((col(\"region\") == region) & (col(\"place\") == \"1\")).count()\n",
    "    second = q6.filter((col(\"region\") == region) & (col(\"place\") == \"2\")).count()\n",
    "    row = [(region, first, second)]\n",
    "    performances = performances.union(spark.createDataFrame(row, schema))\n",
    "performances.sort(\"1st\", ascending=False).show()"
   ]
  },
  {
   "cell_type": "markdown",
   "metadata": {},
   "source": [
    "Q7: Performance by region in Worlds"
   ]
  },
  {
   "cell_type": "code",
   "execution_count": 62,
   "metadata": {},
   "outputs": [
    {
     "name": "stdout",
     "output_type": "stream",
     "text": [
      "+------+---+---+\n",
      "|region|1st|2nd|\n",
      "+------+---+---+\n",
      "| Korea|  8|  6|\n",
      "| China|  3|  4|\n",
      "|  EMEA|  1|  3|\n",
      "|   LMS|  1|  0|\n",
      "+------+---+---+\n",
      "\n"
     ]
    }
   ],
   "source": [
    "q7 = tournamentresults.filter((col(\"overviewpage\").like(\"Season % World Championship\")) & (col(\"place\").isin([\"1\", \"2\"])))\n",
    "q7 = q7.union(tournamentresults.filter((col(\"overviewpage\").like(\"% Season World Championship\")) & (col(\"place\").isin([\"1\", \"2\"])))).withColumn(\"team\", when((col(\"team\") == \"DWG KIA\") | (col(\"team\") == \"DAMWON Gaming\"), \"Dplus KIA\").otherwise(col(\"team\"))).withColumn(\"team\", when(col(\"team\") == \"against All authority\", \"Against All authority\").otherwise(col(\"team\")))\\\n",
    "    .withColumn(\"team\", when(col(\"team\") == \"Star Horn Royal Club\", \"Royal Club\").otherwise(col(\"team\"))) \\\n",
    "    .withColumn(\"team\", when(col(\"team\") == \"KOO Tigers\", \"ROX Tigers\").otherwise(col(\"team\"))) \\\n",
    "    .join(teams, col(\"team\") == teams.name).select(\"team\", \"place\", \"overviewpage\", \"region\").sort(\"overviewpage\")\n",
    "q7 = q7.withColumn(\"region\", when(col(\"region\") == \"Europe\", \"EMEA\").otherwise(col(\"region\")))\n",
    "#Filter 2024, 2025 at the time\n",
    "q7 = q7.filter(~col(\"overviewpage\").contains(\"2024\")).filter(~col(\"overviewpage\").contains(\"2025\"))\n",
    "performances = spark.createDataFrame([], schema)\n",
    "regions = q7.select(\"region\").distinct().toPandas()[\"region\"].tolist()\n",
    "for region in regions:\n",
    "    first = q7.filter((col(\"region\") == region) & (col(\"place\") == \"1\")).count()\n",
    "    second = q7.filter((col(\"region\") == region) & (col(\"place\") == \"2\")).count()\n",
    "    row = [(region, first, second)]\n",
    "    performances = performances.union(spark.createDataFrame(row, schema))\n",
    "performances.sort(\"1st\", ascending=False).show()\n",
    "\n",
    "    "
   ]
  }
 ],
 "metadata": {
  "kernelspec": {
   "display_name": "DA",
   "language": "python",
   "name": "python3"
  },
  "language_info": {
   "codemirror_mode": {
    "name": "ipython",
    "version": 3
   },
   "file_extension": ".py",
   "mimetype": "text/x-python",
   "name": "python",
   "nbconvert_exporter": "python",
   "pygments_lexer": "ipython3",
   "version": "3.11.9"
  }
 },
 "nbformat": 4,
 "nbformat_minor": 2
}
