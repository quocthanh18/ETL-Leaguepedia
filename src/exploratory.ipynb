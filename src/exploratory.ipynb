{
 "cells": [
  {
   "cell_type": "code",
   "execution_count": 2,
   "metadata": {},
   "outputs": [],
   "source": [
    "import pandas as pd"
   ]
  },
  {
   "cell_type": "code",
   "execution_count": 4,
   "metadata": {},
   "outputs": [
    {
     "name": "stdout",
     "output_type": "stream",
     "text": [
      "         Player        Country   Age ResidencyFormer                 Team  \\\n",
      "0        Pantsu         Sweden   NaN             NaN                  NaN   \n",
      "1  Paolocannone          Italy  29.0          Europe                QLASH   \n",
      "2        Paopao          China   NaN             NaN                  NaN   \n",
      "3          PAPA  United States  20.0             NaN  Winthrop University   \n",
      "4        Papace       Portugal   NaN          Europe                  NaN   \n",
      "\n",
      "       Residency      Role                     FavChamps RoleLast  IsRetired  \\\n",
      "0         Europe       Mid  Twisted Fate,Kassadin,Veigar      Mid          1   \n",
      "1           EMEA  Streamer              Blitzcrank,Janna  Support          0   \n",
      "2          China   Support                           NaN  Support          0   \n",
      "3  North America       Mid         Irelia,Akali,Kassadin      Mid          0   \n",
      "4           EMEA       Bot                           NaN      Bot          0   \n",
      "\n",
      "   ToWildrift                                AllName  \n",
      "0           0                      Superblob, Pantsu  \n",
      "1           0  Paolocannone, Paolocannon, PaulCannon  \n",
      "2           0                                 Paopao  \n",
      "3           0                        PAPA, Conveying  \n",
      "4           0                       Papace, Papacelo  \n"
     ]
    }
   ],
   "source": [
    "players = pd.read_csv(\"../staging/transformed/players.csv\")\n",
    "print(players.head())"
   ]
  }
 ],
 "metadata": {
  "kernelspec": {
   "display_name": "DA",
   "language": "python",
   "name": "python3"
  },
  "language_info": {
   "codemirror_mode": {
    "name": "ipython",
    "version": 3
   },
   "file_extension": ".py",
   "mimetype": "text/x-python",
   "name": "python",
   "nbconvert_exporter": "python",
   "pygments_lexer": "ipython3",
   "version": "3.11.9"
  }
 },
 "nbformat": 4,
 "nbformat_minor": 2
}
